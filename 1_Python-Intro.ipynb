{
 "cells": [
  {
   "cell_type": "markdown",
   "id": "2183467d",
   "metadata": {},
   "source": [
    "#### Basics of Python"
   ]
  },
  {
   "cell_type": "markdown",
   "id": "c1f35b86",
   "metadata": {},
   "source": [
    "#### Variables"
   ]
  },
  {
   "cell_type": "code",
   "execution_count": 2,
   "id": "b96d8464",
   "metadata": {},
   "outputs": [
    {
     "name": "stdout",
     "output_type": "stream",
     "text": [
      "1622.2\n"
     ]
    }
   ],
   "source": [
    "rent = 1220\n",
    "gas = 202\n",
    "grocries = 200.2\n",
    "\n",
    "Total = rent + gas + grocries\n",
    "print(Total)"
   ]
  },
  {
   "cell_type": "code",
   "execution_count": 5,
   "id": "4037f3e0",
   "metadata": {},
   "outputs": [
    {
     "name": "stdout",
     "output_type": "stream",
     "text": [
      "Expemse Items: Rent gas grocries\n"
     ]
    }
   ],
   "source": [
    "item1 = \"Rent\"\n",
    "item2 = \"gas\"\n",
    "item3 = \"grocries\"\n",
    "print(\"Expemse Items:\", item1, item2, item3)"
   ]
  },
  {
   "cell_type": "markdown",
   "id": "e9bfd2c1",
   "metadata": {},
   "source": [
    "#### Numbers in Python"
   ]
  },
  {
   "cell_type": "code",
   "execution_count": 6,
   "id": "f1ac8bd8",
   "metadata": {},
   "outputs": [
    {
     "data": {
      "text/plain": [
       "20"
      ]
     },
     "execution_count": 6,
     "metadata": {},
     "output_type": "execute_result"
    }
   ],
   "source": [
    "4*5"
   ]
  },
  {
   "cell_type": "code",
   "execution_count": 7,
   "id": "b00484ad",
   "metadata": {},
   "outputs": [
    {
     "data": {
      "text/plain": [
       "1"
      ]
     },
     "execution_count": 7,
     "metadata": {},
     "output_type": "execute_result"
    }
   ],
   "source": [
    "11%2"
   ]
  },
  {
   "cell_type": "code",
   "execution_count": 8,
   "id": "3d35ba4e",
   "metadata": {},
   "outputs": [
    {
     "data": {
      "text/plain": [
       "729"
      ]
     },
     "execution_count": 8,
     "metadata": {},
     "output_type": "execute_result"
    }
   ],
   "source": [
    "3**6"
   ]
  },
  {
   "cell_type": "code",
   "execution_count": 9,
   "id": "db7136d5",
   "metadata": {},
   "outputs": [
    {
     "data": {
      "text/plain": [
       "729"
      ]
     },
     "execution_count": 9,
     "metadata": {},
     "output_type": "execute_result"
    }
   ],
   "source": [
    "9**3"
   ]
  },
  {
   "cell_type": "code",
   "execution_count": 10,
   "id": "4dd6d2f1",
   "metadata": {},
   "outputs": [
    {
     "data": {
      "text/plain": [
       "'Problem; You are driving from New York city to baltimore and then\\ngoing to pitsburg. You want to know how much total distance you will \\nbe travelling.'"
      ]
     },
     "execution_count": 10,
     "metadata": {},
     "output_type": "execute_result"
    }
   ],
   "source": [
    "\"\"\"Problem; You are driving from New York city to baltimore and then\n",
    "going to pitsburg. You want to know how much total distance you will \n",
    "be travelling.\"\"\""
   ]
  },
  {
   "cell_type": "code",
   "execution_count": 11,
   "id": "d650952b",
   "metadata": {},
   "outputs": [],
   "source": [
    "nyc_to_bal = 188\n",
    "bal_to_pitt = 247\n",
    "total = nyc_to_balc_to_bal + bal_to_pitt"
   ]
  },
  {
   "cell_type": "code",
   "execution_count": 12,
   "id": "1636bc2a",
   "metadata": {},
   "outputs": [
    {
     "data": {
      "text/plain": [
       "435"
      ]
     },
     "execution_count": 12,
     "metadata": {},
     "output_type": "execute_result"
    }
   ],
   "source": [
    "total"
   ]
  },
  {
   "cell_type": "code",
   "execution_count": 14,
   "id": "5c536732",
   "metadata": {},
   "outputs": [
    {
     "name": "stdout",
     "output_type": "stream",
     "text": [
      "6.6923076923076925\n"
     ]
    }
   ],
   "source": [
    "mph_speed = 65\n",
    "time = total/mph_speed\n",
    "print(time)"
   ]
  },
  {
   "cell_type": "code",
   "execution_count": 20,
   "id": "7bea7802",
   "metadata": {},
   "outputs": [],
   "source": [
    "#\"\"\"round() is a function used for cutting down the decimals numbers\"\"\""
   ]
  },
  {
   "cell_type": "code",
   "execution_count": 16,
   "id": "06eabe01",
   "metadata": {},
   "outputs": [
    {
     "data": {
      "text/plain": [
       "6.69"
      ]
     },
     "execution_count": 16,
     "metadata": {},
     "output_type": "execute_result"
    }
   ],
   "source": [
    "round(time, 2)"
   ]
  },
  {
   "cell_type": "code",
   "execution_count": 17,
   "id": "e7391995",
   "metadata": {},
   "outputs": [
    {
     "data": {
      "text/plain": [
       "6.692"
      ]
     },
     "execution_count": 17,
     "metadata": {},
     "output_type": "execute_result"
    }
   ],
   "source": [
    "round(time, 3)"
   ]
  },
  {
   "cell_type": "code",
   "execution_count": 18,
   "id": "51b2acc5",
   "metadata": {},
   "outputs": [
    {
     "data": {
      "text/plain": [
       "16"
      ]
     },
     "execution_count": 18,
     "metadata": {},
     "output_type": "execute_result"
    }
   ],
   "source": [
    "10 + 2 * 3"
   ]
  },
  {
   "cell_type": "code",
   "execution_count": 19,
   "id": "257a716f",
   "metadata": {},
   "outputs": [
    {
     "data": {
      "text/plain": [
       "36"
      ]
     },
     "execution_count": 19,
     "metadata": {},
     "output_type": "execute_result"
    }
   ],
   "source": [
    "#for 36\n",
    "(10+2)*3"
   ]
  },
  {
   "cell_type": "code",
   "execution_count": 21,
   "id": "a5e6fb99",
   "metadata": {},
   "outputs": [
    {
     "data": {
      "text/plain": [
       "0.2999999999999998"
      ]
     },
     "execution_count": 21,
     "metadata": {},
     "output_type": "execute_result"
    }
   ],
   "source": [
    "6-5.7\n",
    "#Why its not 0.3 ??\n",
    "#Because in any programming language numbebrs are stored as \n",
    "#binary numbers and floating numbers are not stored precisely \n",
    "#always with binary numbers. Therefore 0.29999.. instead of 0.3\n",
    "#so floating numbers always lose their accuracy.\n",
    "#THerefore for 0.3 we use round funtion"
   ]
  },
  {
   "cell_type": "code",
   "execution_count": 22,
   "id": "9d789afc",
   "metadata": {},
   "outputs": [
    {
     "data": {
      "text/plain": [
       "0.3"
      ]
     },
     "execution_count": 22,
     "metadata": {},
     "output_type": "execute_result"
    }
   ],
   "source": [
    "round(6-5.7, 2)"
   ]
  },
  {
   "cell_type": "markdown",
   "id": "59aea35f",
   "metadata": {},
   "source": [
    "#### Strings in Python"
   ]
  },
  {
   "cell_type": "code",
   "execution_count": 23,
   "id": "45b75711",
   "metadata": {},
   "outputs": [
    {
     "data": {
      "text/plain": [
       "'ice cream'"
      ]
     },
     "execution_count": 23,
     "metadata": {},
     "output_type": "execute_result"
    }
   ],
   "source": [
    "text = \"ice cream\"\n",
    "text"
   ]
  },
  {
   "cell_type": "code",
   "execution_count": 24,
   "id": "900fc5a1",
   "metadata": {},
   "outputs": [],
   "source": [
    "#strings are stored as like arrays and space also have some index"
   ]
  },
  {
   "cell_type": "code",
   "execution_count": 25,
   "id": "4c99ac12",
   "metadata": {},
   "outputs": [
    {
     "data": {
      "text/plain": [
       "'i'"
      ]
     },
     "execution_count": 25,
     "metadata": {},
     "output_type": "execute_result"
    }
   ],
   "source": [
    "text[0]"
   ]
  },
  {
   "cell_type": "code",
   "execution_count": 26,
   "id": "e71cab59",
   "metadata": {},
   "outputs": [
    {
     "data": {
      "text/plain": [
       "'c'"
      ]
     },
     "execution_count": 26,
     "metadata": {},
     "output_type": "execute_result"
    }
   ],
   "source": [
    "text[4]"
   ]
  },
  {
   "cell_type": "code",
   "execution_count": 27,
   "id": "0e791426",
   "metadata": {},
   "outputs": [
    {
     "data": {
      "text/plain": [
       "' '"
      ]
     },
     "execution_count": 27,
     "metadata": {},
     "output_type": "execute_result"
    }
   ],
   "source": [
    "text[3]"
   ]
  },
  {
   "cell_type": "code",
   "execution_count": 28,
   "id": "5d25b187",
   "metadata": {},
   "outputs": [
    {
     "ename": "TypeError",
     "evalue": "'str' object does not support item assignment",
     "output_type": "error",
     "traceback": [
      "\u001b[1;31m---------------------------------------------------------------------------\u001b[0m",
      "\u001b[1;31mTypeError\u001b[0m                                 Traceback (most recent call last)",
      "\u001b[1;32m<ipython-input-28-de51bfa89a77>\u001b[0m in \u001b[0;36m<module>\u001b[1;34m\u001b[0m\n\u001b[0;32m      1\u001b[0m \u001b[1;31m#CHange content\u001b[0m\u001b[1;33m\u001b[0m\u001b[1;33m\u001b[0m\u001b[1;33m\u001b[0m\u001b[0m\n\u001b[1;32m----> 2\u001b[1;33m \u001b[0mtext\u001b[0m\u001b[1;33m[\u001b[0m\u001b[1;36m0\u001b[0m\u001b[1;33m]\u001b[0m \u001b[1;33m=\u001b[0m \u001b[1;34m'g'\u001b[0m\u001b[1;33m\u001b[0m\u001b[1;33m\u001b[0m\u001b[0m\n\u001b[0m",
      "\u001b[1;31mTypeError\u001b[0m: 'str' object does not support item assignment"
     ]
    }
   ],
   "source": [
    "#Change content : Strings are unmutable. Once we create them after that they can not be \n",
    "#updated. We can place another string in the variable text but we can not change partially\n",
    "#the string using index. In other languages strings are mutable\n",
    "text[0] = 'g'"
   ]
  },
  {
   "cell_type": "code",
   "execution_count": 30,
   "id": "87712de6",
   "metadata": {},
   "outputs": [
    {
     "data": {
      "text/plain": [
       "'ice'"
      ]
     },
     "execution_count": 30,
     "metadata": {},
     "output_type": "execute_result"
    }
   ],
   "source": [
    "#Now substring\n",
    "text[0:3]  # -> 1st index in include and last index is excluded\n",
    "# i.e from index 0 to index 2."
   ]
  },
  {
   "cell_type": "code",
   "execution_count": 31,
   "id": "f8908caf",
   "metadata": {},
   "outputs": [
    {
     "data": {
      "text/plain": [
       "'cream'"
      ]
     },
     "execution_count": 31,
     "metadata": {},
     "output_type": "execute_result"
    }
   ],
   "source": [
    "text[4:9]"
   ]
  },
  {
   "cell_type": "code",
   "execution_count": 32,
   "id": "b9a0bec2",
   "metadata": {},
   "outputs": [
    {
     "data": {
      "text/plain": [
       "'cream'"
      ]
     },
     "execution_count": 32,
     "metadata": {},
     "output_type": "execute_result"
    }
   ],
   "source": [
    "text[4:]"
   ]
  },
  {
   "cell_type": "code",
   "execution_count": 33,
   "id": "03edb16c",
   "metadata": {},
   "outputs": [
    {
     "data": {
      "text/plain": [
       "'ice cr'"
      ]
     },
     "execution_count": 33,
     "metadata": {},
     "output_type": "execute_result"
    }
   ],
   "source": [
    "text[:6]"
   ]
  },
  {
   "cell_type": "code",
   "execution_count": 34,
   "id": "81eadc7a",
   "metadata": {},
   "outputs": [
    {
     "data": {
      "text/plain": [
       "\"let's learn python\""
      ]
     },
     "execution_count": 34,
     "metadata": {},
     "output_type": "execute_result"
    }
   ],
   "source": [
    "#we can use double and single qoutes both are same. They are usefule\n",
    "# when we have single quote within the string.\n",
    "\n",
    "text = \"hello\"\n",
    "text = 'hello'\n",
    "#both are same thing\n",
    "\n",
    "text = \"let's learn python\"\n",
    "text"
   ]
  },
  {
   "cell_type": "code",
   "execution_count": 35,
   "id": "4952ae74",
   "metadata": {},
   "outputs": [
    {
     "data": {
      "text/plain": [
       "'lets learn \"Python\"'"
      ]
     },
     "execution_count": 35,
     "metadata": {},
     "output_type": "execute_result"
    }
   ],
   "source": [
    "text = 'lets learn \"Python\"'\n",
    "text"
   ]
  },
  {
   "cell_type": "code",
   "execution_count": 36,
   "id": "d47fc3fb",
   "metadata": {},
   "outputs": [
    {
     "data": {
      "text/plain": [
       "' 1 purple street\\nnew york\\nusa'"
      ]
     },
     "execution_count": 36,
     "metadata": {},
     "output_type": "execute_result"
    }
   ],
   "source": [
    "#multiline string\n",
    "\n",
    "address = ''' 1 purple street\n",
    "new york\n",
    "usa'''\n",
    "address\n",
    "#Internally it uses \\n for the new line."
   ]
  },
  {
   "cell_type": "code",
   "execution_count": 37,
   "id": "c4da04aa",
   "metadata": {},
   "outputs": [
    {
     "name": "stdout",
     "output_type": "stream",
     "text": [
      " 1 purple street\n",
      "new york\n",
      "usa\n"
     ]
    }
   ],
   "source": [
    "print(address)"
   ]
  },
  {
   "cell_type": "code",
   "execution_count": 42,
   "id": "c378df8d",
   "metadata": {},
   "outputs": [
    {
     "data": {
      "text/plain": [
       "'Hello World'"
      ]
     },
     "execution_count": 42,
     "metadata": {},
     "output_type": "execute_result"
    }
   ],
   "source": [
    "#Concatenation\n",
    "s1 = \"Hello\"\n",
    "s2 = \"World\"\n",
    "s3 = s1 +' ' + s2\n",
    "s3"
   ]
  },
  {
   "cell_type": "code",
   "execution_count": 2,
   "id": "9fee047f",
   "metadata": {},
   "outputs": [
    {
     "ename": "TypeError",
     "evalue": "can only concatenate str (not \"int\") to str",
     "output_type": "error",
     "traceback": [
      "\u001b[1;31m---------------------------------------------------------------------------\u001b[0m",
      "\u001b[1;31mTypeError\u001b[0m                                 Traceback (most recent call last)",
      "\u001b[1;32m<ipython-input-2-59a449e9819d>\u001b[0m in \u001b[0;36m<module>\u001b[1;34m\u001b[0m\n\u001b[0;32m      4\u001b[0m \u001b[0mnum\u001b[0m \u001b[1;33m=\u001b[0m \u001b[1;36m28\u001b[0m\u001b[1;33m\u001b[0m\u001b[1;33m\u001b[0m\u001b[0m\n\u001b[0;32m      5\u001b[0m \u001b[1;33m\u001b[0m\u001b[0m\n\u001b[1;32m----> 6\u001b[1;33m \u001b[0ms4\u001b[0m \u001b[1;33m=\u001b[0m \u001b[0ms\u001b[0m\u001b[1;33m+\u001b[0m\u001b[0mnum\u001b[0m\u001b[1;33m\u001b[0m\u001b[1;33m\u001b[0m\u001b[0m\n\u001b[0m\u001b[0;32m      7\u001b[0m \u001b[1;31m#Gives error because pyhton doesn't know how to join string\u001b[0m\u001b[1;33m\u001b[0m\u001b[1;33m\u001b[0m\u001b[1;33m\u001b[0m\u001b[0m\n\u001b[0;32m      8\u001b[0m \u001b[1;31m# with an integer. So we have to convert the number to string.\u001b[0m\u001b[1;33m\u001b[0m\u001b[1;33m\u001b[0m\u001b[1;33m\u001b[0m\u001b[0m\n",
      "\u001b[1;31mTypeError\u001b[0m: can only concatenate str (not \"int\") to str"
     ]
    }
   ],
   "source": [
    "#adding a number to the string\n",
    "\n",
    "s = \"total states in India\"\n",
    "num = 28\n",
    "\n",
    "s4 = s+num\n",
    "#Gives error because pyhton doesn't know how to join string \n",
    "# with an integer. So we have to convert the number to string.\n",
    "# we will use the str() function for conversion."
   ]
  },
  {
   "cell_type": "code",
   "execution_count": 3,
   "id": "0daa5182",
   "metadata": {},
   "outputs": [
    {
     "data": {
      "text/plain": [
       "'28'"
      ]
     },
     "execution_count": 3,
     "metadata": {},
     "output_type": "execute_result"
    }
   ],
   "source": [
    "str(num)"
   ]
  },
  {
   "cell_type": "code",
   "execution_count": 5,
   "id": "a57a4428",
   "metadata": {},
   "outputs": [
    {
     "data": {
      "text/plain": [
       "'total states in India 28'"
      ]
     },
     "execution_count": 5,
     "metadata": {},
     "output_type": "execute_result"
    }
   ],
   "source": [
    "s + ' '+str(num)\n",
    "#simply typescripting."
   ]
  },
  {
   "cell_type": "markdown",
   "id": "d8d75eb6",
   "metadata": {},
   "source": [
    "#### List in Python"
   ]
  },
  {
   "cell_type": "code",
   "execution_count": 6,
   "id": "c3a5a46f",
   "metadata": {},
   "outputs": [
    {
     "data": {
      "text/plain": [
       "['bread', 'Pasta', 'Fruits', 'Vegetables']"
      ]
     },
     "execution_count": 6,
     "metadata": {},
     "output_type": "execute_result"
    }
   ],
   "source": [
    "items = [\"bread\", \"Pasta\", \"Fruits\", \"Vegetables\"]\n",
    "items\n",
    "#In python list is stored as a memory locations and accesed \n",
    "#by the the index. like bread at index 0.\n"
   ]
  },
  {
   "cell_type": "code",
   "execution_count": 7,
   "id": "022a3ddc",
   "metadata": {},
   "outputs": [
    {
     "data": {
      "text/plain": [
       "'bread'"
      ]
     },
     "execution_count": 7,
     "metadata": {},
     "output_type": "execute_result"
    }
   ],
   "source": [
    "items[0]"
   ]
  },
  {
   "cell_type": "code",
   "execution_count": 8,
   "id": "c7750832",
   "metadata": {},
   "outputs": [
    {
     "data": {
      "text/plain": [
       "'Fruits'"
      ]
     },
     "execution_count": 8,
     "metadata": {},
     "output_type": "execute_result"
    }
   ],
   "source": [
    "items[2]"
   ]
  },
  {
   "cell_type": "code",
   "execution_count": 9,
   "id": "37506cd5",
   "metadata": {},
   "outputs": [
    {
     "name": "stdout",
     "output_type": "stream",
     "text": [
      "bread\n"
     ]
    }
   ],
   "source": [
    "print(items[0])"
   ]
  },
  {
   "cell_type": "code",
   "execution_count": 10,
   "id": "62a20400",
   "metadata": {},
   "outputs": [
    {
     "data": {
      "text/plain": [
       "'chips'"
      ]
     },
     "execution_count": 10,
     "metadata": {},
     "output_type": "execute_result"
    }
   ],
   "source": [
    "#modification of the list. Therefore lists are mutable.\n",
    "items[0] = \"chips\"\n",
    "items[0]"
   ]
  },
  {
   "cell_type": "code",
   "execution_count": 11,
   "id": "2b26472b",
   "metadata": {},
   "outputs": [
    {
     "data": {
      "text/plain": [
       "['chips', 'Pasta', 'Fruits', 'Vegetables']"
      ]
     },
     "execution_count": 11,
     "metadata": {},
     "output_type": "execute_result"
    }
   ],
   "source": [
    "items"
   ]
  },
  {
   "cell_type": "code",
   "execution_count": 12,
   "id": "47ba0b42",
   "metadata": {},
   "outputs": [
    {
     "data": {
      "text/plain": [
       "['chips', 'Pasta']"
      ]
     },
     "execution_count": 12,
     "metadata": {},
     "output_type": "execute_result"
    }
   ],
   "source": [
    "items[0:2] # 2 will be excluded. So index 0 and index 1."
   ]
  },
  {
   "cell_type": "code",
   "execution_count": 13,
   "id": "6c8195cd",
   "metadata": {},
   "outputs": [
    {
     "data": {
      "text/plain": [
       "'Vegetables'"
      ]
     },
     "execution_count": 13,
     "metadata": {},
     "output_type": "execute_result"
    }
   ],
   "source": [
    "items[-1] #To print the last index."
   ]
  },
  {
   "cell_type": "code",
   "execution_count": 14,
   "id": "0f1e6229",
   "metadata": {},
   "outputs": [
    {
     "data": {
      "text/plain": [
       "['bread', 'Pasta', 'Fruits', 'Vegetables']"
      ]
     },
     "execution_count": 14,
     "metadata": {},
     "output_type": "execute_result"
    }
   ],
   "source": [
    "#append method used to append element\n",
    "items = [\"bread\", \"Pasta\", \"Fruits\", \"Vegetables\"]\n",
    "items"
   ]
  },
  {
   "cell_type": "code",
   "execution_count": 15,
   "id": "9ce67458",
   "metadata": {},
   "outputs": [
    {
     "data": {
      "text/plain": [
       "['bread', 'Pasta', 'Fruits', 'Vegetables', 'Butter']"
      ]
     },
     "execution_count": 15,
     "metadata": {},
     "output_type": "execute_result"
    }
   ],
   "source": [
    "items.append(\"Butter\")\n",
    "items"
   ]
  },
  {
   "cell_type": "code",
   "execution_count": 16,
   "id": "88dde68e",
   "metadata": {},
   "outputs": [
    {
     "data": {
      "text/plain": [
       "['bread', 'Pasta', 'Fruits', 'Vegetables', 'Butter', 'apple']"
      ]
     },
     "execution_count": 16,
     "metadata": {},
     "output_type": "execute_result"
    }
   ],
   "source": [
    "items.append('apple')\n",
    "items"
   ]
  },
  {
   "cell_type": "code",
   "execution_count": 18,
   "id": "87b57e71",
   "metadata": {},
   "outputs": [],
   "source": [
    "items.append(10)"
   ]
  },
  {
   "cell_type": "code",
   "execution_count": 19,
   "id": "11148fd3",
   "metadata": {},
   "outputs": [
    {
     "data": {
      "text/plain": [
       "['bread', 'Pasta', 'Fruits', 'Vegetables', 'Butter', 'apple', 10, 10]"
      ]
     },
     "execution_count": 19,
     "metadata": {},
     "output_type": "execute_result"
    }
   ],
   "source": [
    "items"
   ]
  },
  {
   "cell_type": "code",
   "execution_count": 20,
   "id": "f2df41a6",
   "metadata": {},
   "outputs": [
    {
     "data": {
      "text/plain": [
       "['bread', 'Pasta', 'Fruits', 'Vegetables']"
      ]
     },
     "execution_count": 20,
     "metadata": {},
     "output_type": "execute_result"
    }
   ],
   "source": [
    "#lets append at some index\n",
    "items = [\"bread\", \"Pasta\", \"Fruits\", \"Vegetables\"]\n",
    "items"
   ]
  },
  {
   "cell_type": "code",
   "execution_count": 21,
   "id": "65176aae",
   "metadata": {},
   "outputs": [
    {
     "data": {
      "text/plain": [
       "['bread', 'butter', 'Pasta', 'Fruits', 'Vegetables']"
      ]
     },
     "execution_count": 21,
     "metadata": {},
     "output_type": "execute_result"
    }
   ],
   "source": [
    "#Insert at index 1\n",
    "items.insert(1, \"butter\")\n",
    "items"
   ]
  },
  {
   "cell_type": "code",
   "execution_count": 23,
   "id": "d748b3ce",
   "metadata": {},
   "outputs": [
    {
     "data": {
      "text/plain": [
       "['apple', 'banana', 'Grapes', 'bread', 'Pasta', 'Fruits', 'Vegetables']"
      ]
     },
     "execution_count": 23,
     "metadata": {},
     "output_type": "execute_result"
    }
   ],
   "source": [
    "#Join two lists.\n",
    "fruits = [\"apple\", \"banana\", \"Grapes\"]\n",
    "items = [\"bread\", \"Pasta\", \"Fruits\", \"Vegetables\"]\n",
    "My_items = fruits + items\n",
    "My_items"
   ]
  },
  {
   "cell_type": "code",
   "execution_count": 27,
   "id": "e68007b1",
   "metadata": {},
   "outputs": [
    {
     "name": "stdout",
     "output_type": "stream",
     "text": [
      "<class 'list'>\n"
     ]
    }
   ],
   "source": [
    "print(type(My_items))"
   ]
  },
  {
   "cell_type": "code",
   "execution_count": 28,
   "id": "b8b1f206",
   "metadata": {},
   "outputs": [
    {
     "ename": "TypeError",
     "evalue": "can only concatenate list (not \"str\") to list",
     "output_type": "error",
     "traceback": [
      "\u001b[1;31m---------------------------------------------------------------------------\u001b[0m",
      "\u001b[1;31mTypeError\u001b[0m                                 Traceback (most recent call last)",
      "\u001b[1;32m<ipython-input-28-75784af29ec9>\u001b[0m in \u001b[0;36m<module>\u001b[1;34m\u001b[0m\n\u001b[0;32m      1\u001b[0m \u001b[1;31m#insert only single item\u001b[0m\u001b[1;33m\u001b[0m\u001b[1;33m\u001b[0m\u001b[1;33m\u001b[0m\u001b[0m\n\u001b[1;32m----> 2\u001b[1;33m \u001b[0mfruits\u001b[0m \u001b[1;33m+\u001b[0m \u001b[1;34m\"Mango\"\u001b[0m\u001b[1;33m\u001b[0m\u001b[1;33m\u001b[0m\u001b[0m\n\u001b[0m",
      "\u001b[1;31mTypeError\u001b[0m: can only concatenate list (not \"str\") to list"
     ]
    }
   ],
   "source": [
    "#insert only single item\n",
    "fruits + \"Mango\"\n",
    "#Because both must be list."
   ]
  },
  {
   "cell_type": "code",
   "execution_count": 29,
   "id": "a4def0b7",
   "metadata": {},
   "outputs": [
    {
     "data": {
      "text/plain": [
       "4"
      ]
     },
     "execution_count": 29,
     "metadata": {},
     "output_type": "execute_result"
    }
   ],
   "source": [
    "#Length of the list\n",
    "len(items)"
   ]
  },
  {
   "cell_type": "code",
   "execution_count": 30,
   "id": "9cb93aea",
   "metadata": {},
   "outputs": [
    {
     "data": {
      "text/plain": [
       "7"
      ]
     },
     "execution_count": 30,
     "metadata": {},
     "output_type": "execute_result"
    }
   ],
   "source": [
    "len(My_items)"
   ]
  },
  {
   "cell_type": "code",
   "execution_count": 31,
   "id": "d66889fc",
   "metadata": {},
   "outputs": [
    {
     "data": {
      "text/plain": [
       "True"
      ]
     },
     "execution_count": 31,
     "metadata": {},
     "output_type": "execute_result"
    }
   ],
   "source": [
    "#Search a particular item -> in operator is used.\n",
    "\"bread\" in items"
   ]
  },
  {
   "cell_type": "code",
   "execution_count": 32,
   "id": "a765c395",
   "metadata": {},
   "outputs": [
    {
     "data": {
      "text/plain": [
       "False"
      ]
     },
     "execution_count": 32,
     "metadata": {},
     "output_type": "execute_result"
    }
   ],
   "source": [
    "\"soda\" in items"
   ]
  },
  {
   "cell_type": "markdown",
   "id": "2719e1a7",
   "metadata": {},
   "source": [
    "#### If statements"
   ]
  },
  {
   "cell_type": "code",
   "execution_count": 3,
   "id": "37224693",
   "metadata": {},
   "outputs": [
    {
     "name": "stdout",
     "output_type": "stream",
     "text": [
      "Enter a number: 33\n",
      "Odd\n"
     ]
    }
   ],
   "source": [
    "#Even and odd program\n",
    "\n",
    "num = int(input(\"Enter a number: \")) #-> the enetered number will be a string.\n",
    "\n",
    "if num % 2 == 0:\n",
    "    print(\"even\")\n",
    "else:\n",
    "    print(\"Odd\")"
   ]
  },
  {
   "cell_type": "code",
   "execution_count": 4,
   "id": "f97f3554",
   "metadata": {},
   "outputs": [
    {
     "data": {
      "text/plain": [
       "True"
      ]
     },
     "execution_count": 4,
     "metadata": {},
     "output_type": "execute_result"
    }
   ],
   "source": [
    "#Operators\n",
    "#Equal to Operator\n",
    "#greater than operator etc.....\n",
    "4 == 4"
   ]
  },
  {
   "cell_type": "code",
   "execution_count": 5,
   "id": "fbe81e76",
   "metadata": {},
   "outputs": [
    {
     "data": {
      "text/plain": [
       "False"
      ]
     },
     "execution_count": 5,
     "metadata": {},
     "output_type": "execute_result"
    }
   ],
   "source": [
    "4 != 4"
   ]
  },
  {
   "cell_type": "code",
   "execution_count": 6,
   "id": "ae503037",
   "metadata": {},
   "outputs": [
    {
     "data": {
      "text/plain": [
       "True"
      ]
     },
     "execution_count": 6,
     "metadata": {},
     "output_type": "execute_result"
    }
   ],
   "source": [
    "3<=4"
   ]
  },
  {
   "cell_type": "code",
   "execution_count": 7,
   "id": "29fc4c7a",
   "metadata": {},
   "outputs": [
    {
     "data": {
      "text/plain": [
       "True"
      ]
     },
     "execution_count": 7,
     "metadata": {},
     "output_type": "execute_result"
    }
   ],
   "source": [
    "#AND, OR, NOT operator\n",
    "\n",
    "3>2 and 4>1"
   ]
  },
  {
   "cell_type": "code",
   "execution_count": 8,
   "id": "f90f50d1",
   "metadata": {},
   "outputs": [
    {
     "data": {
      "text/plain": [
       "False"
      ]
     },
     "execution_count": 8,
     "metadata": {},
     "output_type": "execute_result"
    }
   ],
   "source": [
    "3>2 and 4>5"
   ]
  },
  {
   "cell_type": "code",
   "execution_count": 9,
   "id": "5a8efdb4",
   "metadata": {},
   "outputs": [
    {
     "data": {
      "text/plain": [
       "True"
      ]
     },
     "execution_count": 9,
     "metadata": {},
     "output_type": "execute_result"
    }
   ],
   "source": [
    "3>2 or 4>5"
   ]
  },
  {
   "cell_type": "code",
   "execution_count": 10,
   "id": "cb0303db",
   "metadata": {},
   "outputs": [
    {
     "data": {
      "text/plain": [
       "False"
      ]
     },
     "execution_count": 10,
     "metadata": {},
     "output_type": "execute_result"
    }
   ],
   "source": [
    "not 4==4 #because 4 == 4 is true."
   ]
  },
  {
   "cell_type": "code",
   "execution_count": 11,
   "id": "dea72167",
   "metadata": {},
   "outputs": [
    {
     "data": {
      "text/plain": [
       "False"
      ]
     },
     "execution_count": 11,
     "metadata": {},
     "output_type": "execute_result"
    }
   ],
   "source": [
    "not True"
   ]
  },
  {
   "cell_type": "code",
   "execution_count": 17,
   "id": "58cb5b19",
   "metadata": {},
   "outputs": [
    {
     "name": "stdout",
     "output_type": "stream",
     "text": [
      "Enter a dish name: Samosa\n",
      "Indian\n"
     ]
    }
   ],
   "source": [
    "#another Problem. \n",
    "#-> Write a progam that asks user to enter dish name and it \n",
    "# should print which cuisinne is that dish\n",
    "\n",
    "#We are just creating the lists for cuisines.\n",
    "indian_cuisine = [\"Samosa\", \"daal\", \"naan\"]\n",
    "chinese = [\"egg role\", \"pot sticker\", \"fried rice\"]\n",
    "italian = [\"pizza\", \"pasta\", \"risotto\"]\n",
    "\n",
    "dish = input(\"Enter a dish name: \")\n",
    "\n",
    "# We will use the 'in' operator.\n",
    "# the searching is case sensitive.\n",
    "if dish in indian_cuisine:\n",
    "    print(\"Indian\")\n",
    "elif dish in chinese:\n",
    "    print(\"chinese\")\n",
    "elif dish in italian:\n",
    "    print(\"Italian\")\n",
    "else:\n",
    "    print(\"I don't know\")\n",
    "    "
   ]
  },
  {
   "cell_type": "markdown",
   "id": "829e9fe2",
   "metadata": {},
   "source": [
    "#### For loops in Python"
   ]
  },
  {
   "cell_type": "code",
   "execution_count": 18,
   "id": "4a24a162",
   "metadata": {},
   "outputs": [
    {
     "name": "stdout",
     "output_type": "stream",
     "text": [
      "13020\n"
     ]
    }
   ],
   "source": [
    "#Problem: Store monthly expenses in a list and find out total\n",
    "#         expenses for all months\n",
    "\n",
    "Expense = [2340, 2500, 2100, 3100, 2980]\n",
    "\n",
    "total = 0\n",
    "\n",
    "for item in Expense:\n",
    "    total = total + item\n",
    "print(total)"
   ]
  },
  {
   "cell_type": "code",
   "execution_count": null,
   "id": "234ffd39",
   "metadata": {},
   "outputs": [],
   "source": []
  }
 ],
 "metadata": {
  "kernelspec": {
   "display_name": "Python 3",
   "language": "python",
   "name": "python3"
  },
  "language_info": {
   "codemirror_mode": {
    "name": "ipython",
    "version": 3
   },
   "file_extension": ".py",
   "mimetype": "text/x-python",
   "name": "python",
   "nbconvert_exporter": "python",
   "pygments_lexer": "ipython3",
   "version": "3.8.8"
  }
 },
 "nbformat": 4,
 "nbformat_minor": 5
}
